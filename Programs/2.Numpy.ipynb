{
 "cells": [
  {
   "cell_type": "markdown",
   "metadata": {},
   "source": [
    "# 1: NUMPY"
   ]
  },
  {
   "cell_type": "markdown",
   "metadata": {},
   "source": [
    "A Numpy array is a collection of similar data type values, and is indexed by a tuple of nonnegative numbers. \n",
    "Import library numpy as object np."
   ]
  },
  {
   "cell_type": "code",
   "execution_count": 1,
   "metadata": {},
   "outputs": [],
   "source": [
    "import numpy as np"
   ]
  },
  {
   "cell_type": "markdown",
   "metadata": {},
   "source": [
    "The rank of the array is the number of dimensions in the given array.\n",
    "Here we are creating an array a={0,1,2} and printing its data tupe which is n dimensional array of class numpy."
   ]
  },
  {
   "cell_type": "code",
   "execution_count": 2,
   "metadata": {},
   "outputs": [
    {
     "name": "stdout",
     "output_type": "stream",
     "text": [
      "<class 'numpy.ndarray'>\n"
     ]
    }
   ],
   "source": [
    "a=np.array([0,1,2])\n",
    "print(type(a))"
   ]
  },
  {
   "cell_type": "markdown",
   "metadata": {},
   "source": [
    "The shape of an array is a tuple of numbers giving the size of the array along each dimension.\n",
    "Indexing is used to print a particular character and it starts from to n-1 where n is no of elements in an array."
   ]
  },
  {
   "cell_type": "code",
   "execution_count": 3,
   "metadata": {},
   "outputs": [
    {
     "name": "stdout",
     "output_type": "stream",
     "text": [
      "(3,)\n",
      "0\n",
      "1\n",
      "2\n"
     ]
    }
   ],
   "source": [
    "print(a.shape)\n",
    "print(a[0])\n",
    "print(a[1])\n",
    "print(a[2])"
   ]
  },
  {
   "cell_type": "markdown",
   "metadata": {},
   "source": [
    "The given command is used to replace an element of an array of patrticular index with given element."
   ]
  },
  {
   "cell_type": "code",
   "execution_count": 4,
   "metadata": {},
   "outputs": [
    {
     "name": "stdout",
     "output_type": "stream",
     "text": [
      "[5 1 2]\n"
     ]
    }
   ],
   "source": [
    "a[0] = 5\n",
    "print(a)"
   ]
  },
  {
   "cell_type": "markdown",
   "metadata": {},
   "source": [
    "Here an array with two rows and three columns (2X3) is constructed and stored in an array as seen from the shape comman given to array.\n",
    "Here elements are acessed by indexing by synatx array[row_index,column_index]"
   ]
  },
  {
   "cell_type": "code",
   "execution_count": 5,
   "metadata": {},
   "outputs": [
    {
     "name": "stdout",
     "output_type": "stream",
     "text": [
      "(2, 3)\n",
      "[[0 1 2]\n",
      " [3 4 5]]\n",
      "0 1 3\n"
     ]
    }
   ],
   "source": [
    "b = np.array([[0,1,2],[3,4,5]])\n",
    "print(b.shape)\n",
    "print(b)\n",
    "print(b[0, 0], b[0, 1], b[1, 0])"
   ]
  },
  {
   "cell_type": "markdown",
   "metadata": {},
   "source": [
    "It creates a 3X3 array is constructed with all of its elements as zeros.\n",
    "They are storede as float value by default."
   ]
  },
  {
   "cell_type": "code",
   "execution_count": 6,
   "metadata": {},
   "outputs": [
    {
     "name": "stdout",
     "output_type": "stream",
     "text": [
      "[[0. 0. 0.]\n",
      " [0. 0. 0.]\n",
      " [0. 0. 0.]]\n"
     ]
    }
   ],
   "source": [
    "a = np.zeros((3,3))\n",
    "print(a)"
   ]
  },
  {
   "cell_type": "markdown",
   "metadata": {},
   "source": [
    "It creates a 3X3 array is constructed with all of its elements as ones.\n",
    "They are all stored as float value by default."
   ]
  },
  {
   "cell_type": "code",
   "execution_count": 7,
   "metadata": {},
   "outputs": [
    {
     "name": "stdout",
     "output_type": "stream",
     "text": [
      "[[1. 1.]\n",
      " [1. 1.]]\n"
     ]
    }
   ],
   "source": [
    "b = np.ones((2,2))\n",
    "print(b)"
   ]
  },
  {
   "cell_type": "markdown",
   "metadata": {},
   "source": [
    "It creates a 3X3 array as 7 as all of its elements.\n",
    "In other words a constant 3X3 array with 7 as its only element at all positions."
   ]
  },
  {
   "cell_type": "code",
   "execution_count": 8,
   "metadata": {},
   "outputs": [
    {
     "name": "stdout",
     "output_type": "stream",
     "text": [
      "[[7 7 7]\n",
      " [7 7 7]\n",
      " [7 7 7]]\n"
     ]
    }
   ],
   "source": [
    "c = np.full((3,3), 7)\n",
    "print(c)"
   ]
  },
  {
   "cell_type": "markdown",
   "metadata": {},
   "source": [
    "It creates a 3X3 array with random values.\n",
    "Random function is used to generate random values."
   ]
  },
  {
   "cell_type": "code",
   "execution_count": 9,
   "metadata": {},
   "outputs": [
    {
     "name": "stdout",
     "output_type": "stream",
     "text": [
      "[[0.82193026 0.77307451 0.01233045]\n",
      " [0.10976293 0.17017    0.96589267]\n",
      " [0.85734729 0.77200686 0.5696631 ]]\n"
     ]
    }
   ],
   "source": [
    "d = np.random.random((3,3))\n",
    "print(d)"
   ]
  },
  {
   "cell_type": "markdown",
   "metadata": {},
   "source": [
    "It creates a 3X3 array as identity array. Here only one number is given as parameter and a square matrix of that size is made.\n",
    "Identity array or matrix is a square array or matrix with all of its diagonal elements asone and rest elements as zero."
   ]
  },
  {
   "cell_type": "code",
   "execution_count": 10,
   "metadata": {},
   "outputs": [
    {
     "name": "stdout",
     "output_type": "stream",
     "text": [
      "[[1. 0. 0.]\n",
      " [0. 1. 0.]\n",
      " [0. 0. 1.]]\n"
     ]
    }
   ],
   "source": [
    "e = np.eye(3)\n",
    "print(e)"
   ]
  },
  {
   "cell_type": "markdown",
   "metadata": {},
   "source": [
    "Here a list of numbers is getting converted to an array. List of numbers [2,3,1,0] is stored in an array f and then printed."
   ]
  },
  {
   "cell_type": "code",
   "execution_count": 11,
   "metadata": {},
   "outputs": [
    {
     "name": "stdout",
     "output_type": "stream",
     "text": [
      "[2 3 1 0]\n"
     ]
    }
   ],
   "source": [
    "f = np.array([2, 3, 1, 0])\n",
    "print(f)"
   ]
  },
  {
   "cell_type": "markdown",
   "metadata": {},
   "source": [
    "Here an array is constructed all the integer elemnts from 0 to n-1 where n is the number mentioned in parameter of arange function."
   ]
  },
  {
   "cell_type": "code",
   "execution_count": 12,
   "metadata": {},
   "outputs": [
    {
     "name": "stdout",
     "output_type": "stream",
     "text": [
      "[ 0  1  2  3  4  5  6  7  8  9 10 11 12 13 14 15 16 17 18 19]\n"
     ]
    }
   ],
   "source": [
    "g = np.arange(20)\n",
    "print(g)"
   ]
  },
  {
   "cell_type": "markdown",
   "metadata": {},
   "source": [
    "Here a 3X3 array with complex numbers is constructed with one of the complex number stored in tuple. It converts all numbers in list and tuples to array.The number is stored with real as well as imaginary part."
   ]
  },
  {
   "cell_type": "code",
   "execution_count": 13,
   "metadata": {},
   "outputs": [
    {
     "name": "stdout",
     "output_type": "stream",
     "text": [
      "[[0.+0.j 1.+0.j 2.+0.j]\n",
      " [0.+0.j 0.+0.j 0.+0.j]\n",
      " [1.+1.j 3.+0.j 2.+0.j]]\n"
     ]
    }
   ],
   "source": [
    "h = np.array([[0, 1,2.0],[0,0,0],(1+1j,3.,2.)])\n",
    "print(h)"
   ]
  },
  {
   "cell_type": "markdown",
   "metadata": {},
   "source": [
    "It is used to create an array with elements ranging from 0 to n-1 where n is no of elements in array with data type as float."
   ]
  },
  {
   "cell_type": "code",
   "execution_count": 14,
   "metadata": {},
   "outputs": [
    {
     "name": "stdout",
     "output_type": "stream",
     "text": [
      "[1. 2. 3. 4. 5. 6. 7.]\n"
     ]
    }
   ],
   "source": [
    "i = np.arange(1, 8, dtype=np.float)\n",
    "print(i)"
   ]
  },
  {
   "cell_type": "markdown",
   "metadata": {},
   "source": [
    "It is used to create an array with 5 elements strating from 2 and stop at 4. Its synatx is array=np.linspace(start,stop,no_of_elements)."
   ]
  },
  {
   "cell_type": "code",
   "execution_count": 15,
   "metadata": {},
   "outputs": [
    {
     "name": "stdout",
     "output_type": "stream",
     "text": [
      "[2.  2.5 3.  3.5 4. ]\n"
     ]
    }
   ],
   "source": [
    "j = np.linspace(2, 4, 5)\n",
    "print(j)"
   ]
  },
  {
   "cell_type": "markdown",
   "metadata": {},
   "source": [
    "It is used to create an array with default data type which machine does implicitly. The data type is selected implicitly according to the input given in the arrays."
   ]
  },
  {
   "cell_type": "code",
   "execution_count": 16,
   "metadata": {},
   "outputs": [
    {
     "name": "stdout",
     "output_type": "stream",
     "text": [
      "int32\n",
      "float64\n"
     ]
    }
   ],
   "source": [
    "x = np.array([0, 1])\n",
    "y = np.array([2.0, 3.0])\n",
    "print (x.dtype)\n",
    "print (y.dtype)"
   ]
  },
  {
   "cell_type": "markdown",
   "metadata": {},
   "source": [
    "Here a particular data type is given to array to store data as particular data type in array."
   ]
  },
  {
   "cell_type": "code",
   "execution_count": 17,
   "metadata": {},
   "outputs": [
    {
     "name": "stdout",
     "output_type": "stream",
     "text": [
      "int64\n"
     ]
    }
   ],
   "source": [
    "z = np.array([5, 6], dtype=np.int64)\n",
    "print (z.dtype)"
   ]
  },
  {
   "cell_type": "markdown",
   "metadata": {},
   "source": [
    "It is used to create a new array temp from an exsting array arr with elements from first two rows and alternate columns zero and two."
   ]
  },
  {
   "cell_type": "code",
   "execution_count": 18,
   "metadata": {},
   "outputs": [
    {
     "name": "stdout",
     "output_type": "stream",
     "text": [
      "Array with first 2 rows and alternate columns(0 and 2):\n",
      " [[-1.  0.]\n",
      " [ 4.  6.]]\n"
     ]
    }
   ],
   "source": [
    "arr = np.array([[-1, 2, 0, 4],[4, -0.5, 6, 0],[2.6, 0, 7, 8],[3, -7, 4, 2.0]])\n",
    "temp = arr[:2, ::2]\n",
    "print (\"Array with first 2 rows and alternate columns(0 and 2):\\n\", temp)"
   ]
  },
  {
   "cell_type": "markdown",
   "metadata": {},
   "source": [
    "It is used to create an array temp from array arr with first parameter as list of row indices and second parameter as list of column indices."
   ]
  },
  {
   "cell_type": "code",
   "execution_count": 19,
   "metadata": {},
   "outputs": [
    {
     "name": "stdout",
     "output_type": "stream",
     "text": [
      "\n",
      "Elements at indices (0, 3), (1, 2), (2, 1),(3, 0):\n",
      " [4. 6. 0. 3.]\n"
     ]
    }
   ],
   "source": [
    "temp = arr[[0, 1, 2, 3], [3, 2, 1, 0]]\n",
    "print (\"\\nElements at indices (0, 3), (1, 2), (2, 1),(3, 0):\\n\", temp)"
   ]
  },
  {
   "cell_type": "markdown",
   "metadata": {},
   "source": [
    "It is used to create a variable cond which stores indices of all alents greater than zero and then supply it to temp array to store these elemnts of array to store in temp array and then print elements greater than zero."
   ]
  },
  {
   "cell_type": "code",
   "execution_count": 20,
   "metadata": {},
   "outputs": [
    {
     "name": "stdout",
     "output_type": "stream",
     "text": [
      "\n",
      "Elements greater than 0:\n",
      " [2.  4.  4.  6.  2.6 7.  8.  3.  4.  2. ]\n"
     ]
    }
   ],
   "source": [
    "cond = arr > 0 \n",
    "temp = arr[cond]\n",
    "print (\"\\nElements greater than 0:\\n\", temp)"
   ]
  },
  {
   "cell_type": "markdown",
   "metadata": {},
   "source": [
    "It is used to create an array 'a' and perform some arithmetic operations on it like addition,substraction,multiplication and many more."
   ]
  },
  {
   "cell_type": "code",
   "execution_count": 21,
   "metadata": {},
   "outputs": [
    {
     "name": "stdout",
     "output_type": "stream",
     "text": [
      "Adding 1 to every element: [2 3 6 4]\n",
      "Subtracting 3 from each element: [-2 -1  2  0]\n",
      "Multiplying each element by 10: [10 20 50 30]\n",
      "Squaring each element: [ 1  4 25  9]\n",
      "Doubled each element of original array: [ 2  4 10  6]\n"
     ]
    }
   ],
   "source": [
    "a = np.array([1, 2, 5, 3])\n",
    "# add 1 to every element\n",
    "print (\"Adding 1 to every element:\", a+1)\n",
    "# subtract 3 from each element\n",
    "print (\"Subtracting 3 from each element:\", a-3)\n",
    "# multiply each element by 10\n",
    "print (\"Multiplying each element by 10:\", a*10)\n",
    "# square each element\n",
    "print (\"Squaring each element:\", a**2)\n",
    "# modify existing array\n",
    "a *= 2\n",
    "print (\"Doubled each element of original array:\", a)"
   ]
  },
  {
   "cell_type": "markdown",
   "metadata": {},
   "source": [
    "It is used to find transpose of a given 3X3 array 'a' using a.T opertaion."
   ]
  },
  {
   "cell_type": "code",
   "execution_count": 22,
   "metadata": {},
   "outputs": [
    {
     "name": "stdout",
     "output_type": "stream",
     "text": [
      "\n",
      "Original array:\n",
      " [[1 2 3]\n",
      " [3 4 5]\n",
      " [9 6 0]]\n",
      "Transpose of array:\n",
      " [[1 3 9]\n",
      " [2 4 6]\n",
      " [3 5 0]]\n"
     ]
    }
   ],
   "source": [
    "a = np.array([[1, 2, 3], [3, 4, 5], [9, 6, 0]])\n",
    "print (\"\\nOriginal array:\\n\", a)\n",
    "print (\"Transpose of array:\\n\", a.T)"
   ]
  },
  {
   "cell_type": "markdown",
   "metadata": {},
   "source": [
    "Here various operations are performed to find maximum and minimum elemnts in an array,maximum and minimum elements row wise and sum of all elements in array as well as row wise. For row wise operations additional parameter of axis=1 is added to consider one dimension at a time."
   ]
  },
  {
   "cell_type": "code",
   "execution_count": 23,
   "metadata": {},
   "outputs": [
    {
     "name": "stdout",
     "output_type": "stream",
     "text": [
      "Largest element is: 9\n",
      "Row-wise maximum elements: [6 7 9]\n",
      "Column-wise minimum elements: [1 1 2]\n",
      "Sum of all array elements: 38\n",
      "Cumulative sum along each row:\n",
      " [[ 1  6 12]\n",
      " [ 4 11 13]\n",
      " [ 3  4 13]]\n"
     ]
    }
   ],
   "source": [
    "arr = np.array([[1, 5, 6],[4, 7, 2],[3, 1, 9]])\n",
    "# maximum element of array\n",
    "print (\"Largest element is:\", arr.max())\n",
    "print (\"Row-wise maximum elements:\",arr.max(axis = 1))\n",
    "# minimum element of array\n",
    "print (\"Column-wise minimum elements:\",arr.min(axis = 0))\n",
    "# sum of array elements\n",
    "print (\"Sum of all array elements:\",arr.sum())\n",
    "# cumulative sum along each row\n",
    "print (\"Cumulative sum along each row:\\n\",arr.cumsum(axis = 1))"
   ]
  },
  {
   "cell_type": "markdown",
   "metadata": {},
   "source": [
    "Here two arrays 'a' and 'b' of size 2X2 are constructed and arithmetic operations are performed on it.'a*b' will perform multiplication elementwise like a(0,0) element with b(0,0), a(1,1) with b(1,1) and so on. To perform matrix multiplication command used is 'a.dot(b)'."
   ]
  },
  {
   "cell_type": "code",
   "execution_count": 24,
   "metadata": {},
   "outputs": [
    {
     "name": "stdout",
     "output_type": "stream",
     "text": [
      "Array sum:\n",
      " [[5 5]\n",
      " [5 5]]\n",
      "Array multiplication:\n",
      " [[4 6]\n",
      " [6 4]]\n",
      "Matrix multiplication:\n",
      " [[ 8  5]\n",
      " [20 13]]\n"
     ]
    }
   ],
   "source": [
    "a = np.array([[1, 2],[3, 4]])\n",
    "b = np.array([[4, 3],[2, 1]])\n",
    "# add arrays\n",
    "print (\"Array sum:\\n\", a + b)\n",
    "# multiply arrays (elementwise multiplication)\n",
    "print (\"Array multiplication:\\n\", a*b)\n",
    "# matrix multiplication\n",
    "print (\"Matrix multiplication:\\n\", a.dot(b))"
   ]
  },
  {
   "cell_type": "markdown",
   "metadata": {},
   "source": [
    "Here various mathematical functions like sin function,exponent function and square root function is applied to an array 'a'. The output is given by applying these functions to all the elements of the array and storing them in a resultant array. "
   ]
  },
  {
   "cell_type": "code",
   "execution_count": 25,
   "metadata": {},
   "outputs": [
    {
     "name": "stdout",
     "output_type": "stream",
     "text": [
      "Sine values of array elements: [0.0000000e+00 1.0000000e+00 1.2246468e-16]\n",
      "Exponent of array elements: [ 1.          2.71828183  7.3890561  20.08553692]\n",
      "Square root of array elements: [0.         1.         1.41421356 1.73205081]\n"
     ]
    }
   ],
   "source": [
    "a = np.array([0, np.pi/2, np.pi])\n",
    "print (\"Sine values of array elements:\", np.sin(a))\n",
    "# exponential values\n",
    "a = np.array([0, 1, 2, 3])\n",
    "print (\"Exponent of array elements:\", np.exp(a))\n",
    "# square root of array values\n",
    "print (\"Square root of array elements:\", np.sqrt(a))"
   ]
  },
  {
   "cell_type": "markdown",
   "metadata": {},
   "source": [
    "Here inverse of array or matrix 'arr' is found using built in function with syntax inverse=np.linalg.inv(array)."
   ]
  },
  {
   "cell_type": "code",
   "execution_count": 26,
   "metadata": {},
   "outputs": [
    {
     "name": "stdout",
     "output_type": "stream",
     "text": [
      "[[ 4.05707196  1.98511166 -2.28287841  1.01736973]\n",
      " [ 0.50620347  0.30272953 -0.24813896 -0.01985112]\n",
      " [-2.66253102 -1.13151365  1.50124069 -0.67990074]\n",
      " [ 1.01116625  0.34491315 -0.44665012  0.26426799]]\n"
     ]
    }
   ],
   "source": [
    "arr = np.array([[-1, 2, 0, 4],[4, -0.5, 6, 0],[2.6, 0, 7, 8],[3, -7, 4, 2.0]])\n",
    "inverse = np.linalg.inv(arr)\n",
    "print(inverse)"
   ]
  },
  {
   "cell_type": "markdown",
   "metadata": {},
   "source": [
    "Various matrix and dot products using numpy library.\n",
    "Here we are finding product, dot product, outer product, Tensor product,Einsum, Einsum path and value of matrix raised to certain power.Here we are using two 4X4 matrix."
   ]
  },
  {
   "cell_type": "code",
   "execution_count": 27,
   "metadata": {},
   "outputs": [
    {
     "name": "stdout",
     "output_type": "stream",
     "text": [
      "Product :\n",
      " [[ 35.   41.   10.   -6. ]\n",
      " [ 20.   22.5  77.   64.9]\n",
      " [ 79.6  84.  102.6  80. ]\n",
      " [  1.  -14.   46.   88.6]]\n",
      "\n",
      "Dot product = 156.5\n",
      "\n",
      "Outer product :\n",
      " [[ -1.    -5.    -6.   -12.    -4.    -7.    -2.     5.    -3.    -1.\n",
      "   -9.    -2.4   -7.    -8.    -3.    -4.  ]\n",
      " [  2.    10.    12.    24.     8.    14.     4.   -10.     6.     2.\n",
      "   18.     4.8   14.    16.     6.     8.  ]\n",
      " [  0.     0.     0.     0.     0.     0.     0.    -0.     0.     0.\n",
      "    0.     0.     0.     0.     0.     0.  ]\n",
      " [  4.    20.    24.    48.    16.    28.     8.   -20.    12.     4.\n",
      "   36.     9.6   28.    32.    12.    16.  ]\n",
      " [  4.    20.    24.    48.    16.    28.     8.   -20.    12.     4.\n",
      "   36.     9.6   28.    32.    12.    16.  ]\n",
      " [ -0.5   -2.5   -3.    -6.    -2.    -3.5   -1.     2.5   -1.5   -0.5\n",
      "   -4.5   -1.2   -3.5   -4.    -1.5   -2.  ]\n",
      " [  6.    30.    36.    72.    24.    42.    12.   -30.    18.     6.\n",
      "   54.    14.4   42.    48.    18.    24.  ]\n",
      " [  0.     0.     0.     0.     0.     0.     0.    -0.     0.     0.\n",
      "    0.     0.     0.     0.     0.     0.  ]\n",
      " [  2.6   13.    15.6   31.2   10.4   18.2    5.2  -13.     7.8    2.6\n",
      "   23.4    6.24  18.2   20.8    7.8   10.4 ]\n",
      " [  0.     0.     0.     0.     0.     0.     0.    -0.     0.     0.\n",
      "    0.     0.     0.     0.     0.     0.  ]\n",
      " [  7.    35.    42.    84.    28.    49.    14.   -35.    21.     7.\n",
      "   63.    16.8   49.    56.    21.    28.  ]\n",
      " [  8.    40.    48.    96.    32.    56.    16.   -40.    24.     8.\n",
      "   72.    19.2   56.    64.    24.    32.  ]\n",
      " [  3.    15.    18.    36.    12.    21.     6.   -15.     9.     3.\n",
      "   27.     7.2   21.    24.     9.    12.  ]\n",
      " [ -7.   -35.   -42.   -84.   -28.   -49.   -14.    35.   -21.    -7.\n",
      "  -63.   -16.8  -49.   -56.   -21.   -28.  ]\n",
      " [  4.    20.    24.    48.    16.    28.     8.   -20.    12.     4.\n",
      "   36.     9.6   28.    32.    12.    16.  ]\n",
      " [  2.    10.    12.    24.     8.    14.     4.   -10.     6.     2.\n",
      "   18.     4.8   14.    16.     6.     8.  ]]\n",
      "\n",
      "Matrix product :\n",
      " [[ 35.   41.   10.   -6. ]\n",
      " [ 20.   22.5  77.   64.9]\n",
      " [ 79.6  84.  102.6  80. ]\n",
      " [  1.  -14.   46.   88.6]]\n",
      "\n",
      "Tensor product = 156.5\n",
      "\n",
      "Einsum = [-1.  -0.5  7.   2. ]\n",
      "\n",
      "Einsum path = (['einsum_path', (0,)], '  Complete contraction:  ii->i\\n         Naive scaling:  1\\n     Optimized scaling:  1\\n      Naive FLOP count:  4.000e+00\\n  Optimized FLOP count:  5.000e+00\\n   Theoretical speedup:  0.800\\n  Largest intermediate:  4.000e+00 elements\\n--------------------------------------------------------------------------\\nscaling                  current                                remaining\\n--------------------------------------------------------------------------\\n   1                       ii->i                                     i->i')\n",
      "\n",
      "Cube :\n",
      " [[1354.8  2110.2  2124.2  1218.  ]\n",
      " [ 234.6   255.4   442.4   -29.4 ]\n",
      " [1011.6  1211.2  1565.6   867.08]\n",
      " [1341.4  1896.6  1782.6   783.6 ]]\n"
     ]
    }
   ],
   "source": [
    "arr1 = np.array([[-1, 2, 0, 4],[4, -0.5, 6, 0],[2.6, 0, 7, 8],[3, -7, 4, 2.0]])\n",
    "arr2 = np.array([[1, 5, 6, 12],[4, 7, 2, -5],[3, 1, 9, 2.4],[7, 8, 3, 4]])\n",
    "prod = np.linalg.multi_dot([arr1,arr2])\n",
    "print(\"Product :\\n\",prod) #the dot product of two or more arrays in a single function call.\n",
    "print(\"\\nDot product =\",np.vdot(arr1,arr2)) #Return the dot product of two vectors.\n",
    "print(\"\\nOuter product :\\n\",np.outer(arr1,arr2)) #Compute the outer product of two vectors.\n",
    "print(\"\\nMatrix product :\\n\",np.matmul(arr1,arr2)) #Matrix product of two arrays.\n",
    "print(\"\\nTensor product =\",np.tensordot(arr1,arr2)) #Compute tensor dot product along specified axes for arrays >= 1-D.\n",
    "print(\"\\nEinsum =\",np.einsum('ii->i',arr1))   #Evaluates the Einstein summation convention on the operands.\n",
    "print(\"\\nEinsum path =\",np.einsum_path('ii->i',arr1)) #Evaluates the lowest cost contraction order for an einsum expression by considering the creation of intermediate arrays.\n",
    "print(\"\\nCube :\\n\",np.linalg.matrix_power(arr2,3))#Raise a square matrix to the (integer) power n."
   ]
  },
  {
   "cell_type": "markdown",
   "metadata": {},
   "source": [
    "Eigen values and eigen vectors for various matrices.\n",
    "Here we are finding right as well as Hermitian eigen values and eigen vectors for the given 4X4 matrix."
   ]
  },
  {
   "cell_type": "code",
   "execution_count": 28,
   "metadata": {},
   "outputs": [
    {
     "name": "stdout",
     "output_type": "stream",
     "text": [
      "Right Eigen values and eigen vectors :\n",
      " (array([ 3.62093727e+01, -2.20937271e+00, -2.91421324e-15, -5.70557534e-16]), array([[-0.15115432,  0.72704996, -0.36400894,  0.00610215],\n",
      "       [-0.34923733,  0.28320876,  0.79039305,  0.40008675],\n",
      "       [-0.54732033, -0.16063243, -0.4887593 , -0.81847996],\n",
      "       [-0.74540333, -0.60447363,  0.06237518,  0.41229105]]))\n",
      "Hermitian Eigen values and eigen vectors :\n",
      " (array([-7.67424525, -1.52933936, -0.88700734, 44.09059195]), array([[-0.72700464,  0.52223568, -0.27042086,  0.35441037],\n",
      "       [-0.38475626, -0.47667819,  0.66785887,  0.4227352 ],\n",
      "       [ 0.10790023, -0.54052519, -0.65266639,  0.51982367],\n",
      "       [ 0.55837659,  0.45593895,  0.23422994,  0.65228183]]))\n",
      "Eigen values = [ 3.62093727e+01 -2.20937271e+00 -2.91421324e-15 -5.70557534e-16]\n"
     ]
    }
   ],
   "source": [
    "a = np.array([[1,2,3,4],[5,6,7,8],[9,10,11,12],[13,14,15,16]])\n",
    "print(\"Right Eigen values and eigen vectors :\\n\",np.linalg.eig(a))  #Compute the eigenvalues and right eigenvectors of a square array.\n",
    "print(\"Hermitian Eigen values and eigen vectors :\\n\",np.linalg.eigh(a))  #Return the eigenvalues and eigenvectors of a complex Hermitian (conjugate symmetric) or areal symmetric matrix.\n",
    "print(\"Eigen values =\",np.linalg.eigvals(a)) #Compute the eigenvalues of a general matrix."
   ]
  },
  {
   "cell_type": "markdown",
   "metadata": {},
   "source": [
    "Submitted By:\n",
    "Sachin Rawat\n",
    "RA1912039010003\n",
    "M.Tech Big Data Analytics"
   ]
  }
 ],
 "metadata": {
  "kernelspec": {
   "display_name": "Python 3",
   "language": "python",
   "name": "python3"
  },
  "language_info": {
   "codemirror_mode": {
    "name": "ipython",
    "version": 3
   },
   "file_extension": ".py",
   "mimetype": "text/x-python",
   "name": "python",
   "nbconvert_exporter": "python",
   "pygments_lexer": "ipython3",
   "version": "3.7.3"
  }
 },
 "nbformat": 4,
 "nbformat_minor": 2
}
