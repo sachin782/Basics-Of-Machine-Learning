{
 "cells": [
  {
   "cell_type": "markdown",
   "metadata": {},
   "source": [
    "# 2: PANDAS"
   ]
  },
  {
   "cell_type": "markdown",
   "metadata": {},
   "source": [
    "Pandas are an open source Python package providing fast, flexible, and expressivedata structures designed to make working with “relational” or “labeled” data both easy and intuitive.Pandas are well suited for tabular data with heterogeneously typed columns, as in anSQL table or Excel spread sheet."
   ]
  },
  {
   "cell_type": "code",
   "execution_count": 2,
   "metadata": {},
   "outputs": [],
   "source": [
    "import pandas as pd\n",
    "import numpy as np"
   ]
  },
  {
   "cell_type": "markdown",
   "metadata": {},
   "source": [
    "Series is a one-dimensional object similar to column in a spreadsheet or SQL table. By default each item will be assigned an index label from 0 to N.\n",
    "Create a series by passing a list of values, and a custom index label.Note that the labeled index reference for each row and it can have duplicate values."
   ]
  },
  {
   "cell_type": "code",
   "execution_count": 4,
   "metadata": {},
   "outputs": [
    {
     "name": "stdout",
     "output_type": "stream",
     "text": [
      "A    1.0\n",
      "B    2.0\n",
      "C    3.0\n",
      "D    NaN\n",
      "E    5.0\n",
      "F    6.0\n",
      "dtype: float64\n"
     ]
    }
   ],
   "source": [
    "s = pd.Series([1,2,3,np.nan,5,6], index=['A','B','C','D','E','F'])\n",
    "print(s)"
   ]
  },
  {
   "cell_type": "markdown",
   "metadata": {},
   "source": [
    "It is a two-dimensional object similar to a spreadsheet or an SQL table.Here we are ordering columns and printing particular columns too. We can also print particular row of particular column also."
   ]
  },
  {
   "cell_type": "code",
   "execution_count": 5,
   "metadata": {},
   "outputs": [
    {
     "name": "stdout",
     "output_type": "stream",
     "text": [
      "Table :\n",
      "   Emp_ID Gender  Age\n",
      "0    E01      F   25\n",
      "1    E02      M   27\n",
      "2    E03      M   25\n",
      "\n",
      "Employee id :\n",
      " 0    E01\n",
      "1    E02\n",
      "2    E03\n",
      "Name: Emp_ID, dtype: object\n",
      "\n",
      "ID =  E01\n"
     ]
    }
   ],
   "source": [
    "data = {'Gender': ['F', 'M', 'M'],'Emp_ID': ['E01', 'E02','E03'], 'Age': [25, 27, 25]}\n",
    "df = pd.DataFrame(data, columns=['Emp_ID','Gender', 'Age'])\n",
    "print(\"Table :\\n\",df) \n",
    "print(\"\\nEmployee id :\\n\",df.Emp_ID) \n",
    "print(\"\\nID = \",df.Emp_ID[0]) "
   ]
  },
  {
   "cell_type": "markdown",
   "metadata": {},
   "source": [
    "Here we are reading a csv file mtcars from directory same as where python file is stored. Then we are printing the first two rows of the table using head function."
   ]
  },
  {
   "cell_type": "code",
   "execution_count": 6,
   "metadata": {},
   "outputs": [
    {
     "name": "stdout",
     "output_type": "stream",
     "text": [
      "           model   mpg  cyl   disp   hp  drat     wt   qsec  vs  am  gear  \\\n",
      "0      Mazda RX4  21.0    6  160.0  110   3.9  2.620  16.46   0   1     4   \n",
      "1  Mazda RX4 Wag  21.0    6  160.0  110   3.9  2.875  17.02   0   1     4   \n",
      "\n",
      "   carb  \n",
      "0     4  \n",
      "1     4  \n"
     ]
    }
   ],
   "source": [
    "df1=pd.read_csv('mtcars.csv') \n",
    "print(df1.head(2))"
   ]
  },
  {
   "cell_type": "markdown",
   "metadata": {},
   "source": [
    "Here we are reading a text file mtcars from directory same as where python file is stored. Here rows are seperated by tab escape character.Then we are printing the first two rows of the table using head function."
   ]
  },
  {
   "cell_type": "code",
   "execution_count": 7,
   "metadata": {},
   "outputs": [
    {
     "name": "stdout",
     "output_type": "stream",
     "text": [
      "           model   mpg  cyl   disp   hp  drat     wt   qsec  vs  am  gear  \\\n",
      "0      Mazda RX4  21.0    6  160.0  110   3.9  2.620  16.46   0   1     4   \n",
      "1  Mazda RX4 Wag  21.0    6  160.0  110   3.9  2.875  17.02   0   1     4   \n",
      "\n",
      "   carb  \n",
      "0     4  \n",
      "1     4  \n"
     ]
    }
   ],
   "source": [
    "df2=pd.read_csv('mtcars.txt', sep='\\t') \n",
    "print(df2.head(2))"
   ]
  },
  {
   "cell_type": "markdown",
   "metadata": {},
   "source": [
    "Here we are reading an excel file mtcars from directory same as where python file is stored. Here we are reading data from only the Sheet2 of excel file.Then we are printing the first two rows of the table using head function."
   ]
  },
  {
   "cell_type": "code",
   "execution_count": 8,
   "metadata": {},
   "outputs": [
    {
     "name": "stdout",
     "output_type": "stream",
     "text": [
      "        model   mpg  cyl   disp   hp  drat    wt  qsec\n",
      "0  Merc 450SE  16.4    8  275.8  180  3.07  4.07  17.4\n",
      "1  Merc 450SL  17.3    8  275.8  180  3.07  3.73  17.6\n"
     ]
    }
   ],
   "source": [
    "df3=pd.read_excel('mtcars.xlsx','Sheet2') \n",
    "print(df3.head(2))"
   ]
  },
  {
   "cell_type": "markdown",
   "metadata": {},
   "source": [
    "Here we are reading from multiple sheets of same excel file into different data frames and then printing first two rows of these sheets."
   ]
  },
  {
   "cell_type": "code",
   "execution_count": 9,
   "metadata": {},
   "outputs": [
    {
     "name": "stdout",
     "output_type": "stream",
     "text": [
      "Sheet 1:\n",
      "            model   mpg  cyl   disp   hp  drat     wt   qsec  vs  am  gear  \\\n",
      "0      Mazda RX4  21.0    6  160.0  110   3.9  2.620  16.46   0   1     4   \n",
      "1  Mazda RX4 Wag  21.0    6  160.0  110   3.9  2.875  17.02   0   1     4   \n",
      "\n",
      "   carb  \n",
      "0     4  \n",
      "1     4  \n",
      "\n",
      "Sheet 2:\n",
      "         model   mpg  cyl   disp   hp  drat    wt  qsec\n",
      "0  Merc 450SE  16.4    8  275.8  180  3.07  4.07  17.4\n",
      "1  Merc 450SL  17.3    8  275.8  180  3.07  3.73  17.6\n"
     ]
    }
   ],
   "source": [
    "sheet1_df = pd.read_excel('mtcars.xlsx', 'Sheet1')\n",
    "print(\"Sheet 1:\\n\",sheet1_df.head(2))\n",
    "sheet2_df = pd.read_excel('mtcars.xlsx', 'Sheet2')\n",
    "print(\"\\nSheet 2:\\n\",sheet2_df.head(2))"
   ]
  },
  {
   "cell_type": "markdown",
   "metadata": {},
   "source": [
    "Here we are reading data from sheet 2 of excel file mtcars and then storing this data into new data in mtcars_new text, excel and text files seperately which will be created while executing  them."
   ]
  },
  {
   "cell_type": "code",
   "execution_count": 10,
   "metadata": {},
   "outputs": [
    {
     "name": "stdout",
     "output_type": "stream",
     "text": [
      "CSV file :\n",
      "         model   mpg  cyl   disp   hp  drat    wt  qsec\n",
      "0  Merc 450SE  16.4    8  275.8  180  3.07  4.07  17.4\n",
      "1  Merc 450SL  17.3    8  275.8  180  3.07  3.73  17.6\n",
      "\n",
      "Text file :\n",
      "         model   mpg  cyl   disp   hp  drat    wt  qsec\n",
      "0  Merc 450SE  16.4    8  275.8  180  3.07  4.07  17.4\n",
      "1  Merc 450SL  17.3    8  275.8  180  3.07  3.73  17.6\n",
      "\n",
      "Excel file :\n",
      "         model   mpg  cyl   disp   hp  drat    wt  qsec\n",
      "0  Merc 450SE  16.4    8  275.8  180  3.07  4.07  17.4\n",
      "1  Merc 450SL  17.3    8  275.8  180  3.07  3.73  17.6\n"
     ]
    }
   ],
   "source": [
    "df=pd.read_excel('mtcars.xlsx','Sheet2')\n",
    "df.to_csv('mtcars_new.csv', index=False)\n",
    "print(\"CSV file :\\n\",pd.read_csv('mtcars_new.csv').head(2))\n",
    "df.to_csv('mtcars_new.txt', sep='\\t', index=False)\n",
    "print(\"\\nText file :\\n\",pd.read_csv('mtcars_new.txt',sep='\\t').head(2))\n",
    "df.to_excel('mtcars_new.xlsx',sheet_name='Sheet1', index = False)\n",
    "print(\"\\nExcel file :\\n\",pd.read_excel('mtcars_new.xlsx','Sheet1').head(2))"
   ]
  },
  {
   "cell_type": "markdown",
   "metadata": {},
   "source": [
    "Here we are reading iris csv file and printing basic statistical operstions of it like mean, median, std, max value etc. for each column."
   ]
  },
  {
   "cell_type": "code",
   "execution_count": 11,
   "metadata": {},
   "outputs": [
    {
     "data": {
      "text/html": [
       "<div>\n",
       "<style scoped>\n",
       "    .dataframe tbody tr th:only-of-type {\n",
       "        vertical-align: middle;\n",
       "    }\n",
       "\n",
       "    .dataframe tbody tr th {\n",
       "        vertical-align: top;\n",
       "    }\n",
       "\n",
       "    .dataframe thead th {\n",
       "        text-align: right;\n",
       "    }\n",
       "</style>\n",
       "<table border=\"1\" class=\"dataframe\">\n",
       "  <thead>\n",
       "    <tr style=\"text-align: right;\">\n",
       "      <th></th>\n",
       "      <th>Sepal.Length</th>\n",
       "      <th>Sepal.Width</th>\n",
       "      <th>Petal.Length</th>\n",
       "      <th>Petal.Width</th>\n",
       "    </tr>\n",
       "  </thead>\n",
       "  <tbody>\n",
       "    <tr>\n",
       "      <td>count</td>\n",
       "      <td>150.000000</td>\n",
       "      <td>150.000000</td>\n",
       "      <td>150.000000</td>\n",
       "      <td>150.000000</td>\n",
       "    </tr>\n",
       "    <tr>\n",
       "      <td>mean</td>\n",
       "      <td>5.843333</td>\n",
       "      <td>3.057333</td>\n",
       "      <td>3.758000</td>\n",
       "      <td>1.199333</td>\n",
       "    </tr>\n",
       "    <tr>\n",
       "      <td>std</td>\n",
       "      <td>0.828066</td>\n",
       "      <td>0.435866</td>\n",
       "      <td>1.765298</td>\n",
       "      <td>0.762238</td>\n",
       "    </tr>\n",
       "    <tr>\n",
       "      <td>min</td>\n",
       "      <td>4.300000</td>\n",
       "      <td>2.000000</td>\n",
       "      <td>1.000000</td>\n",
       "      <td>0.100000</td>\n",
       "    </tr>\n",
       "    <tr>\n",
       "      <td>25%</td>\n",
       "      <td>5.100000</td>\n",
       "      <td>2.800000</td>\n",
       "      <td>1.600000</td>\n",
       "      <td>0.300000</td>\n",
       "    </tr>\n",
       "    <tr>\n",
       "      <td>50%</td>\n",
       "      <td>5.800000</td>\n",
       "      <td>3.000000</td>\n",
       "      <td>4.350000</td>\n",
       "      <td>1.300000</td>\n",
       "    </tr>\n",
       "    <tr>\n",
       "      <td>75%</td>\n",
       "      <td>6.400000</td>\n",
       "      <td>3.300000</td>\n",
       "      <td>5.100000</td>\n",
       "      <td>1.800000</td>\n",
       "    </tr>\n",
       "    <tr>\n",
       "      <td>max</td>\n",
       "      <td>7.900000</td>\n",
       "      <td>4.400000</td>\n",
       "      <td>6.900000</td>\n",
       "      <td>2.500000</td>\n",
       "    </tr>\n",
       "  </tbody>\n",
       "</table>\n",
       "</div>"
      ],
      "text/plain": [
       "       Sepal.Length  Sepal.Width  Petal.Length  Petal.Width\n",
       "count    150.000000   150.000000    150.000000   150.000000\n",
       "mean       5.843333     3.057333      3.758000     1.199333\n",
       "std        0.828066     0.435866      1.765298     0.762238\n",
       "min        4.300000     2.000000      1.000000     0.100000\n",
       "25%        5.100000     2.800000      1.600000     0.300000\n",
       "50%        5.800000     3.000000      4.350000     1.300000\n",
       "75%        6.400000     3.300000      5.100000     1.800000\n",
       "max        7.900000     4.400000      6.900000     2.500000"
      ]
     },
     "execution_count": 11,
     "metadata": {},
     "output_type": "execute_result"
    }
   ],
   "source": [
    "df = pd.read_csv('iris.csv')\n",
    "df.describe()"
   ]
  },
  {
   "cell_type": "markdown",
   "metadata": {},
   "source": [
    "Here we are reading iris csv file and printing covariance of each column with each other or covariance matrix."
   ]
  },
  {
   "cell_type": "code",
   "execution_count": 12,
   "metadata": {},
   "outputs": [
    {
     "name": "stdout",
     "output_type": "stream",
     "text": [
      "              Sepal.Length  Sepal.Width  Petal.Length  Petal.Width\n",
      "Sepal.Length      0.685694    -0.042434      1.274315     0.516271\n",
      "Sepal.Width      -0.042434     0.189979     -0.329656    -0.121639\n",
      "Petal.Length      1.274315    -0.329656      3.116278     1.295609\n",
      "Petal.Width       0.516271    -0.121639      1.295609     0.581006\n"
     ]
    }
   ],
   "source": [
    "df = pd.read_csv('iris.csv')\n",
    "print(df.cov())"
   ]
  },
  {
   "cell_type": "markdown",
   "metadata": {},
   "source": [
    "Here we are reading iris csv file and printing correlation of each column with each other or correlation matrix."
   ]
  },
  {
   "cell_type": "code",
   "execution_count": 13,
   "metadata": {},
   "outputs": [
    {
     "name": "stdout",
     "output_type": "stream",
     "text": [
      "              Sepal.Length  Sepal.Width  Petal.Length  Petal.Width\n",
      "Sepal.Length      1.000000    -0.117570      0.871754     0.817941\n",
      "Sepal.Width      -0.117570     1.000000     -0.428440    -0.366126\n",
      "Petal.Length      0.871754    -0.428440      1.000000     0.962865\n",
      "Petal.Width       0.817941    -0.366126      0.962865     1.000000\n"
     ]
    }
   ],
   "source": [
    "print(df.corr())"
   ]
  },
  {
   "cell_type": "markdown",
   "metadata": {},
   "source": [
    "Submitted By:\n",
    "Sachin Rawat\n",
    "RA1912039010003\n",
    "M.Tech Big Data Analytics"
   ]
  }
 ],
 "metadata": {
  "kernelspec": {
   "display_name": "Python 3",
   "language": "python",
   "name": "python3"
  },
  "language_info": {
   "codemirror_mode": {
    "name": "ipython",
    "version": 3
   },
   "file_extension": ".py",
   "mimetype": "text/x-python",
   "name": "python",
   "nbconvert_exporter": "python",
   "pygments_lexer": "ipython3",
   "version": "3.7.3"
  }
 },
 "nbformat": 4,
 "nbformat_minor": 2
}
